{
 "cells": [
  {
   "cell_type": "code",
   "execution_count": 23,
   "metadata": {},
   "outputs": [],
   "source": [
    "import ee\n",
    "import geemap\n",
    "import pandas as pd\n",
    "import geopandas as gpd\n",
    "from google.cloud import storage\n",
    "import numpy as np \n",
    "from shapely.geometry import Point\n",
    "import json\n",
    "\n",
    "\n",
    "# ee.Authenticate()\n",
    "ee.Initialize()\n"
   ]
  },
  {
   "cell_type": "markdown",
   "metadata": {},
   "source": [
    "Constants"
   ]
  },
  {
   "cell_type": "code",
   "execution_count": 36,
   "metadata": {},
   "outputs": [],
   "source": [
    "s2_str_path='COPERNICUS/S2_SR_HARMONIZED'\n",
    "CLOUDY_PIXEL_PERCENTAGE_STR ='CLOUDY_PIXEL_PERCENTAGE'\n",
    "CLOUDY_PIXEL_PERCENTAGE_INT =20"
   ]
  },
  {
   "cell_type": "code",
   "execution_count": 31,
   "metadata": {},
   "outputs": [],
   "source": [
    "# Load geopackage / shapefile \n",
    "\n",
    "def load_geometry(\n",
    "    path : str , #path to geometry , can be .shp or .gpkg, didn't tested other geometries\n",
    "    crs : str , #the CRS of the given geoemtry\n",
    "    ):\n",
    "\n",
    "    \n",
    "    gdf= gpd.read_file(path)\n",
    "    gdf = gdf.set_crs(crs)\n",
    "\n",
    "    return gdf\n",
    "\n",
    "    "
   ]
  },
  {
   "cell_type": "markdown",
   "metadata": {},
   "source": [
    "Example"
   ]
  },
  {
   "cell_type": "code",
   "execution_count": 32,
   "metadata": {},
   "outputs": [
    {
     "data": {
      "text/html": [
       "<div>\n",
       "<style scoped>\n",
       "    .dataframe tbody tr th:only-of-type {\n",
       "        vertical-align: middle;\n",
       "    }\n",
       "\n",
       "    .dataframe tbody tr th {\n",
       "        vertical-align: top;\n",
       "    }\n",
       "\n",
       "    .dataframe thead th {\n",
       "        text-align: right;\n",
       "    }\n",
       "</style>\n",
       "<table border=\"1\" class=\"dataframe\">\n",
       "  <thead>\n",
       "    <tr style=\"text-align: right;\">\n",
       "      <th></th>\n",
       "      <th>id</th>\n",
       "      <th>name</th>\n",
       "      <th>geometry</th>\n",
       "    </tr>\n",
       "  </thead>\n",
       "  <tbody>\n",
       "    <tr>\n",
       "      <th>0</th>\n",
       "      <td>1</td>\n",
       "      <td>1</td>\n",
       "      <td>MULTIPOLYGON (((34.19874 31.59613, 34.63046 31...</td>\n",
       "    </tr>\n",
       "  </tbody>\n",
       "</table>\n",
       "</div>"
      ],
      "text/plain": [
       "   id  name                                           geometry\n",
       "0   1     1  MULTIPOLYGON (((34.19874 31.59613, 34.63046 31..."
      ]
     },
     "execution_count": 32,
     "metadata": {},
     "output_type": "execute_result"
    }
   ],
   "source": [
    "gdf=load_geometry(path=r\"geometry\\test_bbox.gpkg\",\n",
    "                  crs='4326')\n",
    "gdf"
   ]
  },
  {
   "cell_type": "markdown",
   "metadata": {},
   "source": [
    "Geometry to ee.featurecollection"
   ]
  },
  {
   "cell_type": "code",
   "execution_count": 33,
   "metadata": {},
   "outputs": [],
   "source": [
    "def gdf_to_fc(\n",
    "  gdf : gpd.GeoDataFrame , #\n",
    "  ):\n",
    "  \n",
    "  geo_json = gdf.to_json()\n",
    "\n",
    "  featureCollection = ee.FeatureCollection(json.loads(geo_json))\n",
    "\n",
    "  return featureCollection\n",
    "  "
   ]
  },
  {
   "cell_type": "code",
   "execution_count": 34,
   "metadata": {},
   "outputs": [],
   "source": [
    "fct=gdf_to_fc(gdf = gdf)"
   ]
  },
  {
   "cell_type": "markdown",
   "metadata": {},
   "source": [
    "Access S2"
   ]
  },
  {
   "cell_type": "code",
   "execution_count": 41,
   "metadata": {},
   "outputs": [],
   "source": [
    "def maskS2clouds(image):\n",
    "  qa = image.select('QA60')\n",
    "\n",
    "  # Bits 10 and 11 are clouds and cirrus, respectively.\n",
    "  cloudBitMask = 1 << 10\n",
    "  cirrusBitMask = 1 << 11\n",
    "\n",
    "  # Both flags should be set to zero, indicating clear conditions.\n",
    "  mask = qa.bitwiseAnd(cloudBitMask).eq(0) \\\n",
    "      .And(qa.bitwiseAnd(cirrusBitMask).eq(0))\n",
    "\n",
    "  return image.updateMask(mask).divide(10000)"
   ]
  },
  {
   "cell_type": "code",
   "execution_count": 43,
   "metadata": {},
   "outputs": [],
   "source": [
    "\n",
    "def access_s2(\n",
    "        geometry : ee.FeatureCollection , # Geometry in type of featurecollection\n",
    "        start_date : str ,#date  in the form of 'yyyy-mm-dd'\n",
    "        end_date : str , #daate in the form of 'yyyy-mm-dd'\n",
    "        s2_path : str = s2_str_path,\n",
    "        ):\n",
    "        image_collection= ee.ImageCollection(s2_path).filter(ee.Filter.lt(CLOUDY_PIXEL_PERCENTAGE_STR,CLOUDY_PIXEL_PERCENTAGE_INT)).filterBounds(geometry).map(maskS2clouds).map(lambda img: img.clip(geometry))\n",
    "\n",
    "        #find colest date image\n",
    "\n",
    "\n",
    "        return image_collection"
   ]
  },
  {
   "cell_type": "code",
   "execution_count": 49,
   "metadata": {},
   "outputs": [],
   "source": [
    "img=access_s2(\n",
    "        geometry = fct,\n",
    "        start_date = '2023-10-06',\n",
    "        end_date ='2023-10-08')"
   ]
  },
  {
   "cell_type": "code",
   "execution_count": 50,
   "metadata": {},
   "outputs": [
    {
     "data": {
      "application/vnd.jupyter.widget-view+json": {
       "model_id": "dd2100887c8f4e3fa870bfed030ae8d7",
       "version_major": 2,
       "version_minor": 0
      },
      "text/plain": [
       "Map(center=[20, 0], controls=(WidgetControl(options=['position', 'transparent_bg'], widget=HBox(children=(Togg…"
      ]
     },
     "metadata": {},
     "output_type": "display_data"
    }
   ],
   "source": [
    "Map = geemap.Map()\n",
    "\n",
    "Map.add_basemap(\"SATELLITE\")\n",
    "\n",
    "# Viz = {'min': 0, 'max': 1, 'palette': [    'FFFFFF', 'CE7E45', 'DF923D', 'F1B555', 'FCD163', '99B718', '74A901',\n",
    "#                                          '66A000', '529400', '3E8601', '207401', '056201', '004C00', '023B01',\n",
    "#                                          '012E01', '011D01', '011301']}\n",
    "\n",
    "Map.addLayer(fct,{},\"plots\")\n",
    "Map.addLayer(img.first(), {}, \"test\")\n",
    "Map.centerObject(fct)\n",
    "Map"
   ]
  },
  {
   "cell_type": "code",
   "execution_count": null,
   "metadata": {},
   "outputs": [],
   "source": []
  }
 ],
 "metadata": {
  "kernelspec": {
   "display_name": ".venv",
   "language": "python",
   "name": "python3"
  },
  "language_info": {
   "codemirror_mode": {
    "name": "ipython",
    "version": 3
   },
   "file_extension": ".py",
   "mimetype": "text/x-python",
   "name": "python",
   "nbconvert_exporter": "python",
   "pygments_lexer": "ipython3",
   "version": "3.12.1"
  }
 },
 "nbformat": 4,
 "nbformat_minor": 2
}
